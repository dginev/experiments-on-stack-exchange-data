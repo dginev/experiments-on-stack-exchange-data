{
 "cells": [
  {
   "cell_type": "code",
   "execution_count": null,
   "metadata": {},
   "outputs": [],
   "source": [
    "from urllib.request import urlretrieve\n",
    "from pathlib import Path\n",
    "import libarchive.public\n",
    "import os\n",
    "import re\n",
    "from lxml.html.clean import clean_html\n",
    "from lxml import etree\n",
    "import json"
   ]
  },
  {
   "cell_type": "code",
   "execution_count": null,
   "metadata": {},
   "outputs": [],
   "source": [
    "# TODO: do this for all SE sites\n",
    "site_dump_url = 'https://archive.org/download/stackexchange/mathoverflow.net.7z'\n",
    "site_dir = \"mathoverflow\"\n",
    "local_filename, headers =  urlretrieve(site_dump_url)"
   ]
  },
  {
   "cell_type": "code",
   "execution_count": null,
   "metadata": {},
   "outputs": [],
   "source": [
    "data_dir = Path(\"../data\") / site_dir\n",
    "if not os.path.exists(data_dir):\n",
    "    os.makedirs(data_dir)\n",
    "poured = []\n",
    "for entry in libarchive.public.file_pour(local_filename):\n",
    "    poured.append(entry.pathname)\n",
    "for entry_pathname in poured:\n",
    "    final_pathname = data_dir / entry_pathname\n",
    "    os.rename(entry_pathname, final_pathname)\n",
    "    print(\"wrote %s\" % final_pathname)\n"
   ]
  },
  {
   "cell_type": "code",
   "execution_count": null,
   "metadata": {},
   "outputs": [],
   "source": [
    "# A bit of a wasteful approach, allocates 2-3 GBhis purpose, the tostring() function accepts the keyword argument with_tail:\n",
    "\n",
    ">>> etree.tostring(br)\n",
    "posts = etree.parse(str(data_dir / \"Posts.xml\"));"
   ]
  },
  {
   "cell_type": "code",
   "execution_count": null,
   "metadata": {},
   "outputs": [],
   "source": [
    "re_dollar_math = re.compile('\\$[^\\$]+\\$')\n",
    "\n",
    "collected_data = []\n",
    "rows = posts.getroot().findall('row')\n",
    "print(\"Total posts to examine: %d\" % len(rows))\n",
    "for row in rows:\n",
    "    post_type = row.get('PostTypeId')\n",
    "    if post_type != '1' and post_type != '2':\n",
    "        continue \n",
    "    post_score = row.get('Score')\n",
    "    body = etree.HTML(clean_html(\"<div>\"+row.get('Body')+\"</div>\")).find('body/div')\n",
    "    etree.strip_elements(body, 'img', with_tail=False)\n",
    "    etree.strip_elements(body, 'table', with_tail=False)\n",
    "\n",
    "    for math in body.iterfind('.//span[@class=\"math-container\"]'):\n",
    "        # weirdly bad xpath? \n",
    "        math.text = 'mathformula'\n",
    "    plain_q = ''\n",
    "    for text in body.itertext():\n",
    "        plain_q = plain_q + text\n",
    "    plain_q = \" \".join(plain_q.split())\n",
    "    plain_q = re_dollar_math.sub('mathformula',plain_q)\n",
    "    collected_data.append({\n",
    "        'score': post_score,\n",
    "        'type_id': post_type,\n",
    "        'text': plain_q\n",
    "    })\n",
    "\n",
    "\n",
    "\n",
    "with open(data_dir / 'mathoverflow.json', 'w') as json_file:\n",
    "  json.dump(collected_data, json_file)\n"
   ]
  },
  {
   "cell_type": "code",
   "execution_count": null,
   "metadata": {},
   "outputs": [],
   "source": []
  }
 ],
 "metadata": {
  "kernelspec": {
   "display_name": "Python 3",
   "language": "python",
   "name": "python3"
  },
  "language_info": {
   "codemirror_mode": {
    "name": "ipython",
    "version": 3
   },
   "file_extension": ".py",
   "mimetype": "text/x-python",
   "name": "python",
   "nbconvert_exporter": "python",
   "pygments_lexer": "ipython3",
   "version": "3.8.2"
  }
 },
 "nbformat": 4,
 "nbformat_minor": 4
}
